{
  "nbformat": 4,
  "nbformat_minor": 0,
  "metadata": {
    "colab": {
      "provenance": [],
      "authorship_tag": "ABX9TyOFTiiW9OZCNnn1yPNO5MGJ",
      "include_colab_link": true
    },
    "kernelspec": {
      "name": "python3",
      "display_name": "Python 3"
    },
    "language_info": {
      "name": "python"
    }
  },
  "cells": [
    {
      "cell_type": "markdown",
      "metadata": {
        "id": "view-in-github",
        "colab_type": "text"
      },
      "source": [
        "<a href=\"https://colab.research.google.com/github/ItishaK/AI_Colab_WS/blob/main/HiddenMarkovWeatherDS.ipynb\" target=\"_parent\"><img src=\"https://colab.research.google.com/assets/colab-badge.svg\" alt=\"Open In Colab\"/></a>"
      ]
    },
    {
      "cell_type": "code",
      "execution_count": 2,
      "metadata": {
        "id": "A2PfbOXYe6sx"
      },
      "outputs": [],
      "source": [
        "import tensorflow as tf\n",
        "import numpy as np\n",
        "import pandas as pd\n",
        "import matplotlib.pyplot as plt\n",
        "import tensorflow_probability as tfp"
      ]
    },
    {
      "cell_type": "code",
      "source": [
        "tfd = tfp.distributions\n",
        "\n",
        "initial_dist = tfd.Categorical(probs=[0.8,0.2])\n",
        "transition_dist = tfd.Categorical(probs=[[0.7, 0.3],[0.2, 0.8]])\n",
        "observation_dist = tfd.Normal(loc=[0., 15.], scale=[5.,10.])\n",
        "\n",
        "hmk_model = tfd.HiddenMarkovModel(initial_distribution=initial_dist,\n",
        "                                  transition_distribution=transition_dist,\n",
        "                                  observation_distribution=observation_dist,\n",
        "                                  num_steps=7)\n",
        "\n",
        "mean = hmk_model.mean()\n",
        "print(mean)"
      ],
      "metadata": {
        "colab": {
          "base_uri": "https://localhost:8080/"
        },
        "id": "tBVkHz8PpFOo",
        "outputId": "7df1da19-43ef-4fe8-f952-4b997782483e"
      },
      "execution_count": 6,
      "outputs": [
        {
          "output_type": "stream",
          "name": "stdout",
          "text": [
            "tf.Tensor([3.        5.9999995 7.4999995 8.25      8.625001  8.812501  8.90625  ], shape=(7,), dtype=float32)\n"
          ]
        }
      ]
    },
    {
      "cell_type": "code",
      "source": [
        "with tf.compat.v1.Session() as sess:\n",
        "    print(mean.numpy())"
      ],
      "metadata": {
        "colab": {
          "base_uri": "https://localhost:8080/"
        },
        "id": "HwwW7n5mrUb_",
        "outputId": "d06bfb7b-b930-4409-baa6-16afe4341d6f"
      },
      "execution_count": 7,
      "outputs": [
        {
          "output_type": "stream",
          "name": "stdout",
          "text": [
            "[3.        5.9999995 7.4999995 8.25      8.625001  8.812501  8.90625  ]\n"
          ]
        }
      ]
    },
    {
      "cell_type": "code",
      "source": [
        "hmk_model.log_prob(tf.zeros(shape=[7]))"
      ],
      "metadata": {
        "colab": {
          "base_uri": "https://localhost:8080/"
        },
        "id": "12lI6HLTqYxn",
        "outputId": "dc20727c-aae9-4287-8d42-ed6ede9f949f"
      },
      "execution_count": 4,
      "outputs": [
        {
          "output_type": "execute_result",
          "data": {
            "text/plain": [
              "<tf.Tensor: shape=(), dtype=float32, numpy=-19.855635>"
            ]
          },
          "metadata": {},
          "execution_count": 4
        }
      ]
    }
  ]
}