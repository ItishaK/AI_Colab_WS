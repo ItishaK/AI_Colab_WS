{
  "nbformat": 4,
  "nbformat_minor": 0,
  "metadata": {
    "colab": {
      "provenance": [],
      "authorship_tag": "ABX9TyOXG4NA2XNSgqyom5BtUKkB",
      "include_colab_link": true
    },
    "kernelspec": {
      "name": "python3",
      "display_name": "Python 3"
    },
    "language_info": {
      "name": "python"
    }
  },
  "cells": [
    {
      "cell_type": "markdown",
      "metadata": {
        "id": "view-in-github",
        "colab_type": "text"
      },
      "source": [
        "<a href=\"https://colab.research.google.com/github/ItishaK/AI_Colab_WS/blob/main/Spark_MLlib_intro.ipynb\" target=\"_parent\"><img src=\"https://colab.research.google.com/assets/colab-badge.svg\" alt=\"Open In Colab\"/></a>"
      ]
    },
    {
      "cell_type": "markdown",
      "source": [
        "Reference: https://github.com/krishnaik06/Pyspark-With-Python"
      ],
      "metadata": {
        "id": "pA7UC0r0rR7d"
      }
    },
    {
      "cell_type": "code",
      "execution_count": 1,
      "metadata": {
        "colab": {
          "base_uri": "https://localhost:8080/"
        },
        "id": "MIdmfJT9kriV",
        "outputId": "d873dc57-b95a-4b53-cc2e-c7cb0b0e38ce"
      },
      "outputs": [
        {
          "output_type": "stream",
          "name": "stdout",
          "text": [
            "Collecting pyspark\n",
            "  Downloading pyspark-3.5.0.tar.gz (316.9 MB)\n",
            "\u001b[2K     \u001b[90m━━━━━━━━━━━━━━━━━━━━━━━━━━━━━━━━━━━━━━━━\u001b[0m \u001b[32m316.9/316.9 MB\u001b[0m \u001b[31m2.3 MB/s\u001b[0m eta \u001b[36m0:00:00\u001b[0m\n",
            "\u001b[?25h  Preparing metadata (setup.py) ... \u001b[?25l\u001b[?25hdone\n",
            "Requirement already satisfied: py4j==0.10.9.7 in /usr/local/lib/python3.10/dist-packages (from pyspark) (0.10.9.7)\n",
            "Building wheels for collected packages: pyspark\n",
            "  Building wheel for pyspark (setup.py) ... \u001b[?25l\u001b[?25hdone\n",
            "  Created wheel for pyspark: filename=pyspark-3.5.0-py2.py3-none-any.whl size=317425345 sha256=0c7c78c143a0531228a34f5358f64679372b2bd58c757d5834430b6f34941c0b\n",
            "  Stored in directory: /root/.cache/pip/wheels/41/4e/10/c2cf2467f71c678cfc8a6b9ac9241e5e44a01940da8fbb17fc\n",
            "Successfully built pyspark\n",
            "Installing collected packages: pyspark\n",
            "Successfully installed pyspark-3.5.0\n"
          ]
        }
      ],
      "source": [
        "!pip install pyspark"
      ]
    },
    {
      "cell_type": "code",
      "source": [
        "from pyspark.sql import SparkSession"
      ],
      "metadata": {
        "id": "DQoo8H6RkvUT"
      },
      "execution_count": 2,
      "outputs": []
    },
    {
      "cell_type": "code",
      "source": [
        "spark = SparkSession.builder.appName('MLlib_Practice').getOrCreate()"
      ],
      "metadata": {
        "id": "7bgTniD5k8ZU"
      },
      "execution_count": 4,
      "outputs": []
    },
    {
      "cell_type": "code",
      "source": [
        "training = spark.read.csv('Test1_ds.csv', header=True, inferSchema=True)"
      ],
      "metadata": {
        "id": "0l0cJr3vntaP"
      },
      "execution_count": 8,
      "outputs": []
    },
    {
      "cell_type": "code",
      "source": [
        "training.show()"
      ],
      "metadata": {
        "colab": {
          "base_uri": "https://localhost:8080/"
        },
        "id": "i9aCGUeKoO38",
        "outputId": "c3b2cde5-fff0-4f45-c447-f7a2bc11fe2a"
      },
      "execution_count": 9,
      "outputs": [
        {
          "output_type": "stream",
          "name": "stdout",
          "text": [
            "+------+---+----------+------+\n",
            "|  Name|Age|Experience|Salary|\n",
            "+------+---+----------+------+\n",
            "|  Riya| 23|         3| 30000|\n",
            "|   Sam| 29|         5| 50000|\n",
            "|Joseph| 30|         4| 40000|\n",
            "|   Raj| 35|         1| 10000|\n",
            "| James| 26|         7| 45000|\n",
            "|  Mary| 31|         6| 60000|\n",
            "|   Sia| 28|         8| 80000|\n",
            "+------+---+----------+------+\n",
            "\n"
          ]
        }
      ]
    },
    {
      "cell_type": "code",
      "source": [
        "training.printSchema()"
      ],
      "metadata": {
        "colab": {
          "base_uri": "https://localhost:8080/"
        },
        "id": "Cg2HzvhgoR7u",
        "outputId": "f3084bbb-75bb-450b-92d6-646f0c48469a"
      },
      "execution_count": 10,
      "outputs": [
        {
          "output_type": "stream",
          "name": "stdout",
          "text": [
            "root\n",
            " |-- Name: string (nullable = true)\n",
            " |-- Age: integer (nullable = true)\n",
            " |-- Experience: integer (nullable = true)\n",
            " |-- Salary: integer (nullable = true)\n",
            "\n"
          ]
        }
      ]
    },
    {
      "cell_type": "code",
      "source": [
        "training.columns"
      ],
      "metadata": {
        "colab": {
          "base_uri": "https://localhost:8080/"
        },
        "id": "msFSwL4woiCu",
        "outputId": "abb351a3-9af8-4f66-ee1f-d623b04b7582"
      },
      "execution_count": 11,
      "outputs": [
        {
          "output_type": "execute_result",
          "data": {
            "text/plain": [
              "['Name', 'Age', 'Experience', 'Salary']"
            ]
          },
          "metadata": {},
          "execution_count": 11
        }
      ]
    },
    {
      "cell_type": "code",
      "source": [
        "## Group: [Age, Experience] --> new-feature --> independent feature\n",
        "\n",
        "from pyspark.ml.feature import VectorAssembler\n",
        "feature_assembler = VectorAssembler(inputCols=['Age','Experience'],\n",
        "                                    outputCol='Independent Features')"
      ],
      "metadata": {
        "id": "TMQ7hXH9okYt"
      },
      "execution_count": 12,
      "outputs": []
    },
    {
      "cell_type": "code",
      "source": [
        "output = feature_assembler.transform(training)"
      ],
      "metadata": {
        "id": "NhHruxq4peMd"
      },
      "execution_count": 13,
      "outputs": []
    },
    {
      "cell_type": "code",
      "source": [
        "output.show()"
      ],
      "metadata": {
        "colab": {
          "base_uri": "https://localhost:8080/"
        },
        "id": "eT3Vqu50pjFU",
        "outputId": "82038b46-ab2f-4472-a4c7-281edd52b24b"
      },
      "execution_count": 14,
      "outputs": [
        {
          "output_type": "stream",
          "name": "stdout",
          "text": [
            "+------+---+----------+------+--------------------+\n",
            "|  Name|Age|Experience|Salary|Independent Features|\n",
            "+------+---+----------+------+--------------------+\n",
            "|  Riya| 23|         3| 30000|          [23.0,3.0]|\n",
            "|   Sam| 29|         5| 50000|          [29.0,5.0]|\n",
            "|Joseph| 30|         4| 40000|          [30.0,4.0]|\n",
            "|   Raj| 35|         1| 10000|          [35.0,1.0]|\n",
            "| James| 26|         7| 45000|          [26.0,7.0]|\n",
            "|  Mary| 31|         6| 60000|          [31.0,6.0]|\n",
            "|   Sia| 28|         8| 80000|          [28.0,8.0]|\n",
            "+------+---+----------+------+--------------------+\n",
            "\n"
          ]
        }
      ]
    },
    {
      "cell_type": "code",
      "source": [
        "output.columns"
      ],
      "metadata": {
        "colab": {
          "base_uri": "https://localhost:8080/"
        },
        "id": "plyTZnAapk9z",
        "outputId": "25021175-446b-461d-a9ac-2157898e0545"
      },
      "execution_count": 15,
      "outputs": [
        {
          "output_type": "execute_result",
          "data": {
            "text/plain": [
              "['Name', 'Age', 'Experience', 'Salary', 'Independent Features']"
            ]
          },
          "metadata": {},
          "execution_count": 15
        }
      ]
    },
    {
      "cell_type": "code",
      "source": [
        "finalized_data = output.select(\"Independent Features\", \"Salary\")"
      ],
      "metadata": {
        "id": "L1VLK1kZpp_8"
      },
      "execution_count": 16,
      "outputs": []
    },
    {
      "cell_type": "code",
      "source": [
        "finalized_data.show()"
      ],
      "metadata": {
        "colab": {
          "base_uri": "https://localhost:8080/"
        },
        "id": "r0jS-HbUpxdY",
        "outputId": "5c0493d1-9eb7-462d-a4a8-7dd89203b69b"
      },
      "execution_count": 17,
      "outputs": [
        {
          "output_type": "stream",
          "name": "stdout",
          "text": [
            "+--------------------+------+\n",
            "|Independent Features|Salary|\n",
            "+--------------------+------+\n",
            "|          [23.0,3.0]| 30000|\n",
            "|          [29.0,5.0]| 50000|\n",
            "|          [30.0,4.0]| 40000|\n",
            "|          [35.0,1.0]| 10000|\n",
            "|          [26.0,7.0]| 45000|\n",
            "|          [31.0,6.0]| 60000|\n",
            "|          [28.0,8.0]| 80000|\n",
            "+--------------------+------+\n",
            "\n"
          ]
        }
      ]
    },
    {
      "cell_type": "code",
      "source": [
        "from pyspark.ml.regression import LinearRegression\n",
        "\n",
        "train_data,test_data=finalized_data.randomSplit([0.75,0.25])\n",
        "regressor = LinearRegression(featuresCol='Independent Features', labelCol='Salary')\n",
        "regressor = regressor.fit(train_data)"
      ],
      "metadata": {
        "id": "IQoDe32opzqt"
      },
      "execution_count": 19,
      "outputs": []
    },
    {
      "cell_type": "code",
      "source": [
        "regressor.coefficients"
      ],
      "metadata": {
        "colab": {
          "base_uri": "https://localhost:8080/"
        },
        "id": "-gdv9buQqWqS",
        "outputId": "1fe38c3f-ac41-4de7-f025-d06cf1ac44e7"
      },
      "execution_count": 20,
      "outputs": [
        {
          "output_type": "execute_result",
          "data": {
            "text/plain": [
              "DenseVector([-0.0, 10000.0])"
            ]
          },
          "metadata": {},
          "execution_count": 20
        }
      ]
    },
    {
      "cell_type": "code",
      "source": [
        "regressor.intercept"
      ],
      "metadata": {
        "colab": {
          "base_uri": "https://localhost:8080/"
        },
        "id": "qSg4DzWyqZap",
        "outputId": "e564adab-a978-4b0a-bd31-2f90034c3aaa"
      },
      "execution_count": 21,
      "outputs": [
        {
          "output_type": "execute_result",
          "data": {
            "text/plain": [
              "0.0"
            ]
          },
          "metadata": {},
          "execution_count": 21
        }
      ]
    },
    {
      "cell_type": "code",
      "source": [
        "pred_results = regressor.evaluate(test_data)"
      ],
      "metadata": {
        "id": "e8oGUHAyqcVi"
      },
      "execution_count": 22,
      "outputs": []
    },
    {
      "cell_type": "code",
      "source": [
        "pred_results.predictions.show()"
      ],
      "metadata": {
        "colab": {
          "base_uri": "https://localhost:8080/"
        },
        "id": "n_8zcoAMqici",
        "outputId": "3276b504-3c21-41a1-994d-716d8bd8ed2c"
      },
      "execution_count": 23,
      "outputs": [
        {
          "output_type": "stream",
          "name": "stdout",
          "text": [
            "+--------------------+------+-----------------+\n",
            "|Independent Features|Salary|       prediction|\n",
            "+--------------------+------+-----------------+\n",
            "|          [26.0,7.0]| 45000|70000.00000000001|\n",
            "|          [29.0,5.0]| 50000|          50000.0|\n",
            "|          [30.0,4.0]| 40000|39999.99999999999|\n",
            "+--------------------+------+-----------------+\n",
            "\n"
          ]
        }
      ]
    },
    {
      "cell_type": "code",
      "source": [
        "pred_results.meanAbsoluteError,pred_results.meanSquaredError"
      ],
      "metadata": {
        "colab": {
          "base_uri": "https://localhost:8080/"
        },
        "id": "PyKvOxE3ql3k",
        "outputId": "a1383f1e-0c3f-4bf8-f6b5-37437991da3d"
      },
      "execution_count": 24,
      "outputs": [
        {
          "output_type": "execute_result",
          "data": {
            "text/plain": [
              "(8333.333333333341, 208333333.33333358)"
            ]
          },
          "metadata": {},
          "execution_count": 24
        }
      ]
    }
  ]
}