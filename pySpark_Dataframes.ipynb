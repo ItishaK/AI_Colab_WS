{
  "nbformat": 4,
  "nbformat_minor": 0,
  "metadata": {
    "colab": {
      "provenance": [],
      "authorship_tag": "ABX9TyNKSLqrGr7SpDVwBzGNnl34",
      "include_colab_link": true
    },
    "kernelspec": {
      "name": "python3",
      "display_name": "Python 3"
    },
    "language_info": {
      "name": "python"
    }
  },
  "cells": [
    {
      "cell_type": "markdown",
      "metadata": {
        "id": "view-in-github",
        "colab_type": "text"
      },
      "source": [
        "<a href=\"https://colab.research.google.com/github/ItishaK/AI_Colab_WS/blob/main/pySpark_Dataframes.ipynb\" target=\"_parent\"><img src=\"https://colab.research.google.com/assets/colab-badge.svg\" alt=\"Open In Colab\"/></a>"
      ]
    },
    {
      "cell_type": "markdown",
      "source": [
        "Reference: https://github.com/krishnaik06/Pyspark-With-Python"
      ],
      "metadata": {
        "id": "h9Ofgif7jfGz"
      }
    },
    {
      "cell_type": "code",
      "source": [
        "!pip install pyspark"
      ],
      "metadata": {
        "colab": {
          "base_uri": "https://localhost:8080/"
        },
        "id": "_jOQyEPodBRW",
        "outputId": "fb45d737-9b9c-48df-eeb8-e2d8fc1e9af5"
      },
      "execution_count": 2,
      "outputs": [
        {
          "output_type": "stream",
          "name": "stdout",
          "text": [
            "Collecting pyspark\n",
            "  Downloading pyspark-3.5.0.tar.gz (316.9 MB)\n",
            "\u001b[2K     \u001b[90m━━━━━━━━━━━━━━━━━━━━━━━━━━━━━━━━━━━━━━━━\u001b[0m \u001b[32m316.9/316.9 MB\u001b[0m \u001b[31m2.3 MB/s\u001b[0m eta \u001b[36m0:00:00\u001b[0m\n",
            "\u001b[?25h  Preparing metadata (setup.py) ... \u001b[?25l\u001b[?25hdone\n",
            "Requirement already satisfied: py4j==0.10.9.7 in /usr/local/lib/python3.10/dist-packages (from pyspark) (0.10.9.7)\n",
            "Building wheels for collected packages: pyspark\n",
            "  Building wheel for pyspark (setup.py) ... \u001b[?25l\u001b[?25hdone\n",
            "  Created wheel for pyspark: filename=pyspark-3.5.0-py2.py3-none-any.whl size=317425345 sha256=9d9a6e9d7b6c0bf17b8a50f4eb32331eb44f1ff10dc6562f7110942bcc431ac6\n",
            "  Stored in directory: /root/.cache/pip/wheels/41/4e/10/c2cf2467f71c678cfc8a6b9ac9241e5e44a01940da8fbb17fc\n",
            "Successfully built pyspark\n",
            "Installing collected packages: pyspark\n",
            "Successfully installed pyspark-3.5.0\n"
          ]
        }
      ]
    },
    {
      "cell_type": "code",
      "execution_count": 5,
      "metadata": {
        "id": "ugrULwikcs-N"
      },
      "outputs": [],
      "source": [
        "from pyspark.sql import SparkSession"
      ]
    },
    {
      "cell_type": "code",
      "source": [
        "spark = SparkSession.builder.appName('Dataframe').getOrCreate()"
      ],
      "metadata": {
        "id": "K9PUj49tdHHd"
      },
      "execution_count": 6,
      "outputs": []
    },
    {
      "cell_type": "code",
      "source": [
        "spark"
      ],
      "metadata": {
        "colab": {
          "base_uri": "https://localhost:8080/",
          "height": 219
        },
        "id": "1_gRj-e5dMvI",
        "outputId": "6ec4601e-e893-4a52-a496-7855f2585103"
      },
      "execution_count": 7,
      "outputs": [
        {
          "output_type": "execute_result",
          "data": {
            "text/plain": [
              "<pyspark.sql.session.SparkSession at 0x7e77401c5060>"
            ],
            "text/html": [
              "\n",
              "            <div>\n",
              "                <p><b>SparkSession - in-memory</b></p>\n",
              "                \n",
              "        <div>\n",
              "            <p><b>SparkContext</b></p>\n",
              "\n",
              "            <p><a href=\"http://7c53f8cfe3e0:4040\">Spark UI</a></p>\n",
              "\n",
              "            <dl>\n",
              "              <dt>Version</dt>\n",
              "                <dd><code>v3.5.0</code></dd>\n",
              "              <dt>Master</dt>\n",
              "                <dd><code>local[*]</code></dd>\n",
              "              <dt>AppName</dt>\n",
              "                <dd><code>Dataframe</code></dd>\n",
              "            </dl>\n",
              "        </div>\n",
              "        \n",
              "            </div>\n",
              "        "
            ]
          },
          "metadata": {},
          "execution_count": 7
        }
      ]
    },
    {
      "cell_type": "code",
      "source": [
        "df_pyspark = spark.read.csv('Test1_ds.csv', header=True, inferSchema=True)"
      ],
      "metadata": {
        "id": "xM53JEd4delH"
      },
      "execution_count": 8,
      "outputs": []
    },
    {
      "cell_type": "code",
      "source": [
        "df_pyspark.show()"
      ],
      "metadata": {
        "colab": {
          "base_uri": "https://localhost:8080/"
        },
        "id": "9HVVKC9JdukN",
        "outputId": "bc6601d5-aac5-4063-d3af-45aed9d700b4"
      },
      "execution_count": 9,
      "outputs": [
        {
          "output_type": "stream",
          "name": "stdout",
          "text": [
            "+------+---+----------+------+\n",
            "|  Name|Age|Experience|Salary|\n",
            "+------+---+----------+------+\n",
            "|  Riya| 23|         3| 30000|\n",
            "|   Sam| 29|         5| 50000|\n",
            "|Joseph| 30|         4| 40000|\n",
            "|   Raj| 35|         1| 10000|\n",
            "| James| 26|         7| 45000|\n",
            "|  Mary| 31|         6| 60000|\n",
            "|   Sia| 28|         8| 80000|\n",
            "+------+---+----------+------+\n",
            "\n"
          ]
        }
      ]
    },
    {
      "cell_type": "code",
      "source": [
        "## Filter operations\n",
        "# Salary of people less than or equal to 30000\n",
        "\n",
        "df_pyspark.filter(\"Salary<=30000\").show()\n"
      ],
      "metadata": {
        "colab": {
          "base_uri": "https://localhost:8080/"
        },
        "id": "1h0GZ7WCdxi2",
        "outputId": "9b3ae8ce-a17e-4697-873e-401e05c5bab9"
      },
      "execution_count": 11,
      "outputs": [
        {
          "output_type": "stream",
          "name": "stdout",
          "text": [
            "+----+---+----------+------+\n",
            "|Name|Age|Experience|Salary|\n",
            "+----+---+----------+------+\n",
            "|Riya| 23|         3| 30000|\n",
            "| Raj| 35|         1| 10000|\n",
            "+----+---+----------+------+\n",
            "\n"
          ]
        }
      ]
    },
    {
      "cell_type": "code",
      "source": [
        "df_pyspark.filter('Salary<=30000').select(['Name',\"Age\"]).show()"
      ],
      "metadata": {
        "colab": {
          "base_uri": "https://localhost:8080/"
        },
        "id": "irv5akP8eDX6",
        "outputId": "d5d1537d-6717-4bb0-8bf7-938a50195a8b"
      },
      "execution_count": 12,
      "outputs": [
        {
          "output_type": "stream",
          "name": "stdout",
          "text": [
            "+----+---+\n",
            "|Name|Age|\n",
            "+----+---+\n",
            "|Riya| 23|\n",
            "| Raj| 35|\n",
            "+----+---+\n",
            "\n"
          ]
        }
      ]
    },
    {
      "cell_type": "code",
      "source": [
        "df_pyspark.filter(df_pyspark['Salary']<=30000).show()"
      ],
      "metadata": {
        "colab": {
          "base_uri": "https://localhost:8080/"
        },
        "id": "eoTej_14ePfP",
        "outputId": "581830e6-32e8-402c-c24a-05206d728a77"
      },
      "execution_count": 14,
      "outputs": [
        {
          "output_type": "stream",
          "name": "stdout",
          "text": [
            "+----+---+----------+------+\n",
            "|Name|Age|Experience|Salary|\n",
            "+----+---+----------+------+\n",
            "|Riya| 23|         3| 30000|\n",
            "| Raj| 35|         1| 10000|\n",
            "+----+---+----------+------+\n",
            "\n"
          ]
        }
      ]
    },
    {
      "cell_type": "code",
      "source": [
        "df_pyspark.filter((df_pyspark['Salary']<=30000) & (df_pyspark['Salary']>=15000)).show()"
      ],
      "metadata": {
        "colab": {
          "base_uri": "https://localhost:8080/"
        },
        "id": "TqEwQtaxecy8",
        "outputId": "6819711d-2380-47f3-a8f3-929cc0564615"
      },
      "execution_count": 17,
      "outputs": [
        {
          "output_type": "stream",
          "name": "stdout",
          "text": [
            "+----+---+----------+------+\n",
            "|Name|Age|Experience|Salary|\n",
            "+----+---+----------+------+\n",
            "|Riya| 23|         3| 30000|\n",
            "+----+---+----------+------+\n",
            "\n"
          ]
        }
      ]
    },
    {
      "cell_type": "code",
      "source": [
        "df_pyspark.filter((df_pyspark['Salary']<=30000) | (df_pyspark['Salary']>=15000)).show()"
      ],
      "metadata": {
        "colab": {
          "base_uri": "https://localhost:8080/"
        },
        "id": "xsSTDkUWe2Qs",
        "outputId": "1aaaa0c3-1e45-44e7-efc3-2b9cea916a12"
      },
      "execution_count": 18,
      "outputs": [
        {
          "output_type": "stream",
          "name": "stdout",
          "text": [
            "+------+---+----------+------+\n",
            "|  Name|Age|Experience|Salary|\n",
            "+------+---+----------+------+\n",
            "|  Riya| 23|         3| 30000|\n",
            "|   Sam| 29|         5| 50000|\n",
            "|Joseph| 30|         4| 40000|\n",
            "|   Raj| 35|         1| 10000|\n",
            "| James| 26|         7| 45000|\n",
            "|  Mary| 31|         6| 60000|\n",
            "|   Sia| 28|         8| 80000|\n",
            "+------+---+----------+------+\n",
            "\n"
          ]
        }
      ]
    },
    {
      "cell_type": "code",
      "source": [
        "## Inverse filter operation\n",
        "df_pyspark.filter(~(df_pyspark['Salary']<=30000)).show()"
      ],
      "metadata": {
        "colab": {
          "base_uri": "https://localhost:8080/"
        },
        "id": "HL11eq7ve8oB",
        "outputId": "d79557a3-b576-45e2-d687-ca34f7d57632"
      },
      "execution_count": 19,
      "outputs": [
        {
          "output_type": "stream",
          "name": "stdout",
          "text": [
            "+------+---+----------+------+\n",
            "|  Name|Age|Experience|Salary|\n",
            "+------+---+----------+------+\n",
            "|   Sam| 29|         5| 50000|\n",
            "|Joseph| 30|         4| 40000|\n",
            "| James| 26|         7| 45000|\n",
            "|  Mary| 31|         6| 60000|\n",
            "|   Sia| 28|         8| 80000|\n",
            "+------+---+----------+------+\n",
            "\n"
          ]
        }
      ]
    },
    {
      "cell_type": "code",
      "source": [
        "## Aggregate Functions"
      ],
      "metadata": {
        "id": "DqUG9pFkgXum"
      },
      "execution_count": null,
      "outputs": []
    },
    {
      "cell_type": "code",
      "source": [
        "df2_pyspark = spark.read.csv('Test2.csv', header=True, inferSchema=True)"
      ],
      "metadata": {
        "id": "aZBW5I71fX--"
      },
      "execution_count": 20,
      "outputs": []
    },
    {
      "cell_type": "code",
      "source": [
        "df2_pyspark.show()"
      ],
      "metadata": {
        "colab": {
          "base_uri": "https://localhost:8080/"
        },
        "id": "8i2IF7hrgOIM",
        "outputId": "674b7d0b-d0b6-41b4-aac6-089727e5f47d"
      },
      "execution_count": 22,
      "outputs": [
        {
          "output_type": "stream",
          "name": "stdout",
          "text": [
            "+------+------+------------+\n",
            "|  Name|Salary|  Department|\n",
            "+------+------+------------+\n",
            "|  Riya| 30000|Data Science|\n",
            "|   Sam| 50000|     Android|\n",
            "|Joseph| 40000|         iOT|\n",
            "|   Raj| 10000|Data Science|\n",
            "| James| 45000|    Big Data|\n",
            "|  Mary| 60000|    Big Data|\n",
            "|   Sia| 80000|     Android|\n",
            "+------+------+------------+\n",
            "\n"
          ]
        }
      ]
    },
    {
      "cell_type": "code",
      "source": [
        "df2_pyspark.printSchema()"
      ],
      "metadata": {
        "colab": {
          "base_uri": "https://localhost:8080/"
        },
        "id": "wCSu8wuWgRVm",
        "outputId": "d0ad21e2-2a88-4715-8ea1-271a206a9cf5"
      },
      "execution_count": 23,
      "outputs": [
        {
          "output_type": "stream",
          "name": "stdout",
          "text": [
            "root\n",
            " |-- Name: string (nullable = true)\n",
            " |-- Salary: integer (nullable = true)\n",
            " |-- Department: string (nullable = true)\n",
            "\n"
          ]
        }
      ]
    },
    {
      "cell_type": "code",
      "source": [
        "## GroupBy\n",
        "df2_pyspark.groupBy('Name').sum().show()"
      ],
      "metadata": {
        "colab": {
          "base_uri": "https://localhost:8080/"
        },
        "id": "pcmQyZl_g1E5",
        "outputId": "0ea445bb-a81e-4cce-f064-b2961907d714"
      },
      "execution_count": 25,
      "outputs": [
        {
          "output_type": "stream",
          "name": "stdout",
          "text": [
            "+------+-----------+\n",
            "|  Name|sum(Salary)|\n",
            "+------+-----------+\n",
            "|  Mary|      60000|\n",
            "| James|      45000|\n",
            "|   Sia|      80000|\n",
            "|  Riya|      30000|\n",
            "|   Sam|      50000|\n",
            "|   Raj|      10000|\n",
            "|Joseph|      40000|\n",
            "+------+-----------+\n",
            "\n"
          ]
        }
      ]
    },
    {
      "cell_type": "code",
      "source": [
        "df2_pyspark.groupBy('Department').sum().show()"
      ],
      "metadata": {
        "colab": {
          "base_uri": "https://localhost:8080/"
        },
        "id": "8x7l5SOKhQsy",
        "outputId": "b4078a94-1b1d-4e59-efa9-d01fe186d61e"
      },
      "execution_count": 26,
      "outputs": [
        {
          "output_type": "stream",
          "name": "stdout",
          "text": [
            "+------------+-----------+\n",
            "|  Department|sum(Salary)|\n",
            "+------------+-----------+\n",
            "|    Big Data|     105000|\n",
            "|     Android|     130000|\n",
            "|Data Science|      40000|\n",
            "|         iOT|      40000|\n",
            "+------------+-----------+\n",
            "\n"
          ]
        }
      ]
    },
    {
      "cell_type": "code",
      "source": [
        "df2_pyspark.groupBy('Department').mean().show()"
      ],
      "metadata": {
        "colab": {
          "base_uri": "https://localhost:8080/"
        },
        "id": "Rqyw4XOZhi37",
        "outputId": "7015edcf-d6bc-4dd3-c5ce-d871cd7cc929"
      },
      "execution_count": 27,
      "outputs": [
        {
          "output_type": "stream",
          "name": "stdout",
          "text": [
            "+------------+-----------+\n",
            "|  Department|avg(Salary)|\n",
            "+------------+-----------+\n",
            "|    Big Data|    52500.0|\n",
            "|     Android|    65000.0|\n",
            "|Data Science|    20000.0|\n",
            "|         iOT|    40000.0|\n",
            "+------------+-----------+\n",
            "\n"
          ]
        }
      ]
    },
    {
      "cell_type": "code",
      "source": [
        "df2_pyspark.groupBy('Department').count().show()"
      ],
      "metadata": {
        "colab": {
          "base_uri": "https://localhost:8080/"
        },
        "id": "PDIEQevEhxb7",
        "outputId": "fb723ec5-26c7-4108-a171-d9b2fae83946"
      },
      "execution_count": 28,
      "outputs": [
        {
          "output_type": "stream",
          "name": "stdout",
          "text": [
            "+------------+-----+\n",
            "|  Department|count|\n",
            "+------------+-----+\n",
            "|    Big Data|    2|\n",
            "|     Android|    2|\n",
            "|Data Science|    2|\n",
            "|         iOT|    1|\n",
            "+------------+-----+\n",
            "\n"
          ]
        }
      ]
    },
    {
      "cell_type": "code",
      "source": [
        "df2_pyspark.agg({'Salary':'sum'}).show()"
      ],
      "metadata": {
        "colab": {
          "base_uri": "https://localhost:8080/"
        },
        "id": "RNb6-YTCh5nq",
        "outputId": "164bbbf6-be9b-49c7-8c3b-12a1dd3268e9"
      },
      "execution_count": 29,
      "outputs": [
        {
          "output_type": "stream",
          "name": "stdout",
          "text": [
            "+-----------+\n",
            "|sum(Salary)|\n",
            "+-----------+\n",
            "|     315000|\n",
            "+-----------+\n",
            "\n"
          ]
        }
      ]
    },
    {
      "cell_type": "code",
      "source": [
        "df2_pyspark.groupBy('Department').max().show()"
      ],
      "metadata": {
        "colab": {
          "base_uri": "https://localhost:8080/"
        },
        "id": "tfSVPHeriNEA",
        "outputId": "c3b5fa78-276c-4de0-d45b-df45333a24c2"
      },
      "execution_count": 31,
      "outputs": [
        {
          "output_type": "stream",
          "name": "stdout",
          "text": [
            "+------------+-----------+\n",
            "|  Department|max(Salary)|\n",
            "+------------+-----------+\n",
            "|    Big Data|      60000|\n",
            "|     Android|      80000|\n",
            "|Data Science|      30000|\n",
            "|         iOT|      40000|\n",
            "+------------+-----------+\n",
            "\n"
          ]
        }
      ]
    },
    {
      "cell_type": "code",
      "source": [],
      "metadata": {
        "id": "U9iwaT9PiZSX"
      },
      "execution_count": null,
      "outputs": []
    }
  ]
}