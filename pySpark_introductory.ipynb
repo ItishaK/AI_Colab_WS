{
  "nbformat": 4,
  "nbformat_minor": 0,
  "metadata": {
    "colab": {
      "provenance": [],
      "authorship_tag": "ABX9TyNtUpMKdFhRGPoxOCsMQW4q",
      "include_colab_link": true
    },
    "kernelspec": {
      "name": "python3",
      "display_name": "Python 3"
    },
    "language_info": {
      "name": "python"
    }
  },
  "cells": [
    {
      "cell_type": "markdown",
      "metadata": {
        "id": "view-in-github",
        "colab_type": "text"
      },
      "source": [
        "<a href=\"https://colab.research.google.com/github/ItishaK/AI_Colab_WS/blob/main/pySpark_introductory.ipynb\" target=\"_parent\"><img src=\"https://colab.research.google.com/assets/colab-badge.svg\" alt=\"Open In Colab\"/></a>"
      ]
    },
    {
      "cell_type": "markdown",
      "source": [
        "Reference: https://github.com/krishnaik06/Pyspark-With-Python"
      ],
      "metadata": {
        "id": "7D67EPe3jUc2"
      }
    },
    {
      "cell_type": "code",
      "execution_count": 1,
      "metadata": {
        "colab": {
          "base_uri": "https://localhost:8080/"
        },
        "id": "wkJJrSbdBZFb",
        "outputId": "f220ca5e-77db-4f84-cc8e-fdf20348c91b"
      },
      "outputs": [
        {
          "output_type": "stream",
          "name": "stdout",
          "text": [
            "Collecting pyspark\n",
            "  Downloading pyspark-3.5.0.tar.gz (316.9 MB)\n",
            "\u001b[2K     \u001b[90m━━━━━━━━━━━━━━━━━━━━━━━━━━━━━━━━━━━━━━━━\u001b[0m \u001b[32m316.9/316.9 MB\u001b[0m \u001b[31m1.7 MB/s\u001b[0m eta \u001b[36m0:00:00\u001b[0m\n",
            "\u001b[?25h  Preparing metadata (setup.py) ... \u001b[?25l\u001b[?25hdone\n",
            "Requirement already satisfied: py4j==0.10.9.7 in /usr/local/lib/python3.10/dist-packages (from pyspark) (0.10.9.7)\n",
            "Building wheels for collected packages: pyspark\n",
            "  Building wheel for pyspark (setup.py) ... \u001b[?25l\u001b[?25hdone\n",
            "  Created wheel for pyspark: filename=pyspark-3.5.0-py2.py3-none-any.whl size=317425345 sha256=2817967189daae3361e88ee834802de4f12eb90eb089275e1d8de43206d6f5ca\n",
            "  Stored in directory: /root/.cache/pip/wheels/41/4e/10/c2cf2467f71c678cfc8a6b9ac9241e5e44a01940da8fbb17fc\n",
            "Successfully built pyspark\n",
            "Installing collected packages: pyspark\n",
            "Successfully installed pyspark-3.5.0\n"
          ]
        }
      ],
      "source": [
        "!pip install pyspark"
      ]
    },
    {
      "cell_type": "code",
      "source": [
        "import pandas as pd"
      ],
      "metadata": {
        "id": "fm5ZI62TB_LD"
      },
      "execution_count": 2,
      "outputs": []
    },
    {
      "cell_type": "code",
      "source": [
        "ds = pd.read_csv(\"Test1_ds.csv\")"
      ],
      "metadata": {
        "id": "i6kPLAUHBz-x"
      },
      "execution_count": 3,
      "outputs": []
    },
    {
      "cell_type": "code",
      "source": [
        "ds"
      ],
      "metadata": {
        "colab": {
          "base_uri": "https://localhost:8080/",
          "height": 269
        },
        "id": "XgB1GxNGCW-b",
        "outputId": "03eef082-8758-4300-bc41-86ff4db8185f"
      },
      "execution_count": 4,
      "outputs": [
        {
          "output_type": "execute_result",
          "data": {
            "text/plain": [
              "     Name  Age  Experience  Salary\n",
              "0    Riya   23         3.0   30000\n",
              "1     Sam   29         5.0   50000\n",
              "2  Joseph   30         4.0   40000\n",
              "3     Raj   35         1.0   10000\n",
              "4     NaN   26         NaN   45000\n",
              "5     NaN   31         6.0   60000\n",
              "6     Sia   28         8.0   80000"
            ],
            "text/html": [
              "\n",
              "  <div id=\"df-dfd87562-4079-419f-b2f6-690bd467ec1c\" class=\"colab-df-container\">\n",
              "    <div>\n",
              "<style scoped>\n",
              "    .dataframe tbody tr th:only-of-type {\n",
              "        vertical-align: middle;\n",
              "    }\n",
              "\n",
              "    .dataframe tbody tr th {\n",
              "        vertical-align: top;\n",
              "    }\n",
              "\n",
              "    .dataframe thead th {\n",
              "        text-align: right;\n",
              "    }\n",
              "</style>\n",
              "<table border=\"1\" class=\"dataframe\">\n",
              "  <thead>\n",
              "    <tr style=\"text-align: right;\">\n",
              "      <th></th>\n",
              "      <th>Name</th>\n",
              "      <th>Age</th>\n",
              "      <th>Experience</th>\n",
              "      <th>Salary</th>\n",
              "    </tr>\n",
              "  </thead>\n",
              "  <tbody>\n",
              "    <tr>\n",
              "      <th>0</th>\n",
              "      <td>Riya</td>\n",
              "      <td>23</td>\n",
              "      <td>3.0</td>\n",
              "      <td>30000</td>\n",
              "    </tr>\n",
              "    <tr>\n",
              "      <th>1</th>\n",
              "      <td>Sam</td>\n",
              "      <td>29</td>\n",
              "      <td>5.0</td>\n",
              "      <td>50000</td>\n",
              "    </tr>\n",
              "    <tr>\n",
              "      <th>2</th>\n",
              "      <td>Joseph</td>\n",
              "      <td>30</td>\n",
              "      <td>4.0</td>\n",
              "      <td>40000</td>\n",
              "    </tr>\n",
              "    <tr>\n",
              "      <th>3</th>\n",
              "      <td>Raj</td>\n",
              "      <td>35</td>\n",
              "      <td>1.0</td>\n",
              "      <td>10000</td>\n",
              "    </tr>\n",
              "    <tr>\n",
              "      <th>4</th>\n",
              "      <td>NaN</td>\n",
              "      <td>26</td>\n",
              "      <td>NaN</td>\n",
              "      <td>45000</td>\n",
              "    </tr>\n",
              "    <tr>\n",
              "      <th>5</th>\n",
              "      <td>NaN</td>\n",
              "      <td>31</td>\n",
              "      <td>6.0</td>\n",
              "      <td>60000</td>\n",
              "    </tr>\n",
              "    <tr>\n",
              "      <th>6</th>\n",
              "      <td>Sia</td>\n",
              "      <td>28</td>\n",
              "      <td>8.0</td>\n",
              "      <td>80000</td>\n",
              "    </tr>\n",
              "  </tbody>\n",
              "</table>\n",
              "</div>\n",
              "    <div class=\"colab-df-buttons\">\n",
              "\n",
              "  <div class=\"colab-df-container\">\n",
              "    <button class=\"colab-df-convert\" onclick=\"convertToInteractive('df-dfd87562-4079-419f-b2f6-690bd467ec1c')\"\n",
              "            title=\"Convert this dataframe to an interactive table.\"\n",
              "            style=\"display:none;\">\n",
              "\n",
              "  <svg xmlns=\"http://www.w3.org/2000/svg\" height=\"24px\" viewBox=\"0 -960 960 960\">\n",
              "    <path d=\"M120-120v-720h720v720H120Zm60-500h600v-160H180v160Zm220 220h160v-160H400v160Zm0 220h160v-160H400v160ZM180-400h160v-160H180v160Zm440 0h160v-160H620v160ZM180-180h160v-160H180v160Zm440 0h160v-160H620v160Z\"/>\n",
              "  </svg>\n",
              "    </button>\n",
              "\n",
              "  <style>\n",
              "    .colab-df-container {\n",
              "      display:flex;\n",
              "      gap: 12px;\n",
              "    }\n",
              "\n",
              "    .colab-df-convert {\n",
              "      background-color: #E8F0FE;\n",
              "      border: none;\n",
              "      border-radius: 50%;\n",
              "      cursor: pointer;\n",
              "      display: none;\n",
              "      fill: #1967D2;\n",
              "      height: 32px;\n",
              "      padding: 0 0 0 0;\n",
              "      width: 32px;\n",
              "    }\n",
              "\n",
              "    .colab-df-convert:hover {\n",
              "      background-color: #E2EBFA;\n",
              "      box-shadow: 0px 1px 2px rgba(60, 64, 67, 0.3), 0px 1px 3px 1px rgba(60, 64, 67, 0.15);\n",
              "      fill: #174EA6;\n",
              "    }\n",
              "\n",
              "    .colab-df-buttons div {\n",
              "      margin-bottom: 4px;\n",
              "    }\n",
              "\n",
              "    [theme=dark] .colab-df-convert {\n",
              "      background-color: #3B4455;\n",
              "      fill: #D2E3FC;\n",
              "    }\n",
              "\n",
              "    [theme=dark] .colab-df-convert:hover {\n",
              "      background-color: #434B5C;\n",
              "      box-shadow: 0px 1px 3px 1px rgba(0, 0, 0, 0.15);\n",
              "      filter: drop-shadow(0px 1px 2px rgba(0, 0, 0, 0.3));\n",
              "      fill: #FFFFFF;\n",
              "    }\n",
              "  </style>\n",
              "\n",
              "    <script>\n",
              "      const buttonEl =\n",
              "        document.querySelector('#df-dfd87562-4079-419f-b2f6-690bd467ec1c button.colab-df-convert');\n",
              "      buttonEl.style.display =\n",
              "        google.colab.kernel.accessAllowed ? 'block' : 'none';\n",
              "\n",
              "      async function convertToInteractive(key) {\n",
              "        const element = document.querySelector('#df-dfd87562-4079-419f-b2f6-690bd467ec1c');\n",
              "        const dataTable =\n",
              "          await google.colab.kernel.invokeFunction('convertToInteractive',\n",
              "                                                    [key], {});\n",
              "        if (!dataTable) return;\n",
              "\n",
              "        const docLinkHtml = 'Like what you see? Visit the ' +\n",
              "          '<a target=\"_blank\" href=https://colab.research.google.com/notebooks/data_table.ipynb>data table notebook</a>'\n",
              "          + ' to learn more about interactive tables.';\n",
              "        element.innerHTML = '';\n",
              "        dataTable['output_type'] = 'display_data';\n",
              "        await google.colab.output.renderOutput(dataTable, element);\n",
              "        const docLink = document.createElement('div');\n",
              "        docLink.innerHTML = docLinkHtml;\n",
              "        element.appendChild(docLink);\n",
              "      }\n",
              "    </script>\n",
              "  </div>\n",
              "\n",
              "\n",
              "<div id=\"df-99fbcb03-d55c-405c-93e7-fbabd7c2f63e\">\n",
              "  <button class=\"colab-df-quickchart\" onclick=\"quickchart('df-99fbcb03-d55c-405c-93e7-fbabd7c2f63e')\"\n",
              "            title=\"Suggest charts\"\n",
              "            style=\"display:none;\">\n",
              "\n",
              "<svg xmlns=\"http://www.w3.org/2000/svg\" height=\"24px\"viewBox=\"0 0 24 24\"\n",
              "     width=\"24px\">\n",
              "    <g>\n",
              "        <path d=\"M19 3H5c-1.1 0-2 .9-2 2v14c0 1.1.9 2 2 2h14c1.1 0 2-.9 2-2V5c0-1.1-.9-2-2-2zM9 17H7v-7h2v7zm4 0h-2V7h2v10zm4 0h-2v-4h2v4z\"/>\n",
              "    </g>\n",
              "</svg>\n",
              "  </button>\n",
              "\n",
              "<style>\n",
              "  .colab-df-quickchart {\n",
              "      --bg-color: #E8F0FE;\n",
              "      --fill-color: #1967D2;\n",
              "      --hover-bg-color: #E2EBFA;\n",
              "      --hover-fill-color: #174EA6;\n",
              "      --disabled-fill-color: #AAA;\n",
              "      --disabled-bg-color: #DDD;\n",
              "  }\n",
              "\n",
              "  [theme=dark] .colab-df-quickchart {\n",
              "      --bg-color: #3B4455;\n",
              "      --fill-color: #D2E3FC;\n",
              "      --hover-bg-color: #434B5C;\n",
              "      --hover-fill-color: #FFFFFF;\n",
              "      --disabled-bg-color: #3B4455;\n",
              "      --disabled-fill-color: #666;\n",
              "  }\n",
              "\n",
              "  .colab-df-quickchart {\n",
              "    background-color: var(--bg-color);\n",
              "    border: none;\n",
              "    border-radius: 50%;\n",
              "    cursor: pointer;\n",
              "    display: none;\n",
              "    fill: var(--fill-color);\n",
              "    height: 32px;\n",
              "    padding: 0;\n",
              "    width: 32px;\n",
              "  }\n",
              "\n",
              "  .colab-df-quickchart:hover {\n",
              "    background-color: var(--hover-bg-color);\n",
              "    box-shadow: 0 1px 2px rgba(60, 64, 67, 0.3), 0 1px 3px 1px rgba(60, 64, 67, 0.15);\n",
              "    fill: var(--button-hover-fill-color);\n",
              "  }\n",
              "\n",
              "  .colab-df-quickchart-complete:disabled,\n",
              "  .colab-df-quickchart-complete:disabled:hover {\n",
              "    background-color: var(--disabled-bg-color);\n",
              "    fill: var(--disabled-fill-color);\n",
              "    box-shadow: none;\n",
              "  }\n",
              "\n",
              "  .colab-df-spinner {\n",
              "    border: 2px solid var(--fill-color);\n",
              "    border-color: transparent;\n",
              "    border-bottom-color: var(--fill-color);\n",
              "    animation:\n",
              "      spin 1s steps(1) infinite;\n",
              "  }\n",
              "\n",
              "  @keyframes spin {\n",
              "    0% {\n",
              "      border-color: transparent;\n",
              "      border-bottom-color: var(--fill-color);\n",
              "      border-left-color: var(--fill-color);\n",
              "    }\n",
              "    20% {\n",
              "      border-color: transparent;\n",
              "      border-left-color: var(--fill-color);\n",
              "      border-top-color: var(--fill-color);\n",
              "    }\n",
              "    30% {\n",
              "      border-color: transparent;\n",
              "      border-left-color: var(--fill-color);\n",
              "      border-top-color: var(--fill-color);\n",
              "      border-right-color: var(--fill-color);\n",
              "    }\n",
              "    40% {\n",
              "      border-color: transparent;\n",
              "      border-right-color: var(--fill-color);\n",
              "      border-top-color: var(--fill-color);\n",
              "    }\n",
              "    60% {\n",
              "      border-color: transparent;\n",
              "      border-right-color: var(--fill-color);\n",
              "    }\n",
              "    80% {\n",
              "      border-color: transparent;\n",
              "      border-right-color: var(--fill-color);\n",
              "      border-bottom-color: var(--fill-color);\n",
              "    }\n",
              "    90% {\n",
              "      border-color: transparent;\n",
              "      border-bottom-color: var(--fill-color);\n",
              "    }\n",
              "  }\n",
              "</style>\n",
              "\n",
              "  <script>\n",
              "    async function quickchart(key) {\n",
              "      const quickchartButtonEl =\n",
              "        document.querySelector('#' + key + ' button');\n",
              "      quickchartButtonEl.disabled = true;  // To prevent multiple clicks.\n",
              "      quickchartButtonEl.classList.add('colab-df-spinner');\n",
              "      try {\n",
              "        const charts = await google.colab.kernel.invokeFunction(\n",
              "            'suggestCharts', [key], {});\n",
              "      } catch (error) {\n",
              "        console.error('Error during call to suggestCharts:', error);\n",
              "      }\n",
              "      quickchartButtonEl.classList.remove('colab-df-spinner');\n",
              "      quickchartButtonEl.classList.add('colab-df-quickchart-complete');\n",
              "    }\n",
              "    (() => {\n",
              "      let quickchartButtonEl =\n",
              "        document.querySelector('#df-99fbcb03-d55c-405c-93e7-fbabd7c2f63e button');\n",
              "      quickchartButtonEl.style.display =\n",
              "        google.colab.kernel.accessAllowed ? 'block' : 'none';\n",
              "    })();\n",
              "  </script>\n",
              "</div>\n",
              "\n",
              "  <div id=\"id_dbc01977-511a-4ae4-877a-4ed540568ffd\">\n",
              "    <style>\n",
              "      .colab-df-generate {\n",
              "        background-color: #E8F0FE;\n",
              "        border: none;\n",
              "        border-radius: 50%;\n",
              "        cursor: pointer;\n",
              "        display: none;\n",
              "        fill: #1967D2;\n",
              "        height: 32px;\n",
              "        padding: 0 0 0 0;\n",
              "        width: 32px;\n",
              "      }\n",
              "\n",
              "      .colab-df-generate:hover {\n",
              "        background-color: #E2EBFA;\n",
              "        box-shadow: 0px 1px 2px rgba(60, 64, 67, 0.3), 0px 1px 3px 1px rgba(60, 64, 67, 0.15);\n",
              "        fill: #174EA6;\n",
              "      }\n",
              "\n",
              "      [theme=dark] .colab-df-generate {\n",
              "        background-color: #3B4455;\n",
              "        fill: #D2E3FC;\n",
              "      }\n",
              "\n",
              "      [theme=dark] .colab-df-generate:hover {\n",
              "        background-color: #434B5C;\n",
              "        box-shadow: 0px 1px 3px 1px rgba(0, 0, 0, 0.15);\n",
              "        filter: drop-shadow(0px 1px 2px rgba(0, 0, 0, 0.3));\n",
              "        fill: #FFFFFF;\n",
              "      }\n",
              "    </style>\n",
              "    <button class=\"colab-df-generate\" onclick=\"generateWithVariable('ds')\"\n",
              "            title=\"Generate code using this dataframe.\"\n",
              "            style=\"display:none;\">\n",
              "\n",
              "  <svg xmlns=\"http://www.w3.org/2000/svg\" height=\"24px\"viewBox=\"0 0 24 24\"\n",
              "       width=\"24px\">\n",
              "    <path d=\"M7,19H8.4L18.45,9,17,7.55,7,17.6ZM5,21V16.75L18.45,3.32a2,2,0,0,1,2.83,0l1.4,1.43a1.91,1.91,0,0,1,.58,1.4,1.91,1.91,0,0,1-.58,1.4L9.25,21ZM18.45,9,17,7.55Zm-12,3A5.31,5.31,0,0,0,4.9,8.1,5.31,5.31,0,0,0,1,6.5,5.31,5.31,0,0,0,4.9,4.9,5.31,5.31,0,0,0,6.5,1,5.31,5.31,0,0,0,8.1,4.9,5.31,5.31,0,0,0,12,6.5,5.46,5.46,0,0,0,6.5,12Z\"/>\n",
              "  </svg>\n",
              "    </button>\n",
              "    <script>\n",
              "      (() => {\n",
              "      const buttonEl =\n",
              "        document.querySelector('#id_dbc01977-511a-4ae4-877a-4ed540568ffd button.colab-df-generate');\n",
              "      buttonEl.style.display =\n",
              "        google.colab.kernel.accessAllowed ? 'block' : 'none';\n",
              "\n",
              "      buttonEl.onclick = () => {\n",
              "        google.colab.notebook.generateWithVariable('ds');\n",
              "      }\n",
              "      })();\n",
              "    </script>\n",
              "  </div>\n",
              "\n",
              "    </div>\n",
              "  </div>\n"
            ]
          },
          "metadata": {},
          "execution_count": 4
        }
      ]
    },
    {
      "cell_type": "code",
      "source": [
        "from pyspark.sql import SparkSession"
      ],
      "metadata": {
        "id": "ukZt0yFpCZ_n"
      },
      "execution_count": 5,
      "outputs": []
    },
    {
      "cell_type": "code",
      "source": [
        "spark = SparkSession.builder.appName('Practice').getOrCreate()"
      ],
      "metadata": {
        "id": "1o3Ay7CCCdta"
      },
      "execution_count": 6,
      "outputs": []
    },
    {
      "cell_type": "code",
      "source": [
        "spark"
      ],
      "metadata": {
        "colab": {
          "base_uri": "https://localhost:8080/",
          "height": 219
        },
        "id": "aV_bMz9LCpPX",
        "outputId": "15c06680-f63d-4af1-a7c8-b1773f9e80e9"
      },
      "execution_count": 7,
      "outputs": [
        {
          "output_type": "execute_result",
          "data": {
            "text/plain": [
              "<pyspark.sql.session.SparkSession at 0x7f47bfb8a920>"
            ],
            "text/html": [
              "\n",
              "            <div>\n",
              "                <p><b>SparkSession - in-memory</b></p>\n",
              "                \n",
              "        <div>\n",
              "            <p><b>SparkContext</b></p>\n",
              "\n",
              "            <p><a href=\"http://9d6bbc63ad76:4040\">Spark UI</a></p>\n",
              "\n",
              "            <dl>\n",
              "              <dt>Version</dt>\n",
              "                <dd><code>v3.5.0</code></dd>\n",
              "              <dt>Master</dt>\n",
              "                <dd><code>local[*]</code></dd>\n",
              "              <dt>AppName</dt>\n",
              "                <dd><code>Practice</code></dd>\n",
              "            </dl>\n",
              "        </div>\n",
              "        \n",
              "            </div>\n",
              "        "
            ]
          },
          "metadata": {},
          "execution_count": 7
        }
      ]
    },
    {
      "cell_type": "code",
      "source": [
        "spark.read.csv('Test1_ds.csv')"
      ],
      "metadata": {
        "colab": {
          "base_uri": "https://localhost:8080/"
        },
        "id": "gSOqZgFGCtfP",
        "outputId": "f61ea289-3e43-4ebb-f238-81453a021e88"
      },
      "execution_count": 8,
      "outputs": [
        {
          "output_type": "execute_result",
          "data": {
            "text/plain": [
              "DataFrame[_c0: string, _c1: string, _c2: string, _c3: string]"
            ]
          },
          "metadata": {},
          "execution_count": 8
        }
      ]
    },
    {
      "cell_type": "code",
      "source": [
        "df_pyspark = spark.read.option('header', 'true').csv('Test1_ds.csv', inferSchema=True)"
      ],
      "metadata": {
        "id": "jq9IkNF1DMg7"
      },
      "execution_count": 9,
      "outputs": []
    },
    {
      "cell_type": "code",
      "source": [
        "df_pyspark"
      ],
      "metadata": {
        "colab": {
          "base_uri": "https://localhost:8080/"
        },
        "id": "n0Xp9u1HC5yX",
        "outputId": "d58abdf5-825d-4861-ae34-1b7abedd7ad3"
      },
      "execution_count": 10,
      "outputs": [
        {
          "output_type": "execute_result",
          "data": {
            "text/plain": [
              "DataFrame[Name: string, Age: int, Experience: int, Salary: int]"
            ]
          },
          "metadata": {},
          "execution_count": 10
        }
      ]
    },
    {
      "cell_type": "code",
      "source": [
        "df_pyspark.show()"
      ],
      "metadata": {
        "colab": {
          "base_uri": "https://localhost:8080/"
        },
        "id": "q7PF90pxDA6I",
        "outputId": "12cc6274-b854-4d86-f983-cb763e8db49f"
      },
      "execution_count": 11,
      "outputs": [
        {
          "output_type": "stream",
          "name": "stdout",
          "text": [
            "+------+---+----------+------+\n",
            "|  Name|Age|Experience|Salary|\n",
            "+------+---+----------+------+\n",
            "|  Riya| 23|         3| 30000|\n",
            "|   Sam| 29|         5| 50000|\n",
            "|Joseph| 30|         4| 40000|\n",
            "|   Raj| 35|         1| 10000|\n",
            "|  NULL| 26|      NULL| 45000|\n",
            "|  NULL| 31|         6| 60000|\n",
            "|   Sia| 28|         8| 80000|\n",
            "+------+---+----------+------+\n",
            "\n"
          ]
        }
      ]
    },
    {
      "cell_type": "code",
      "source": [
        "type(df_pyspark)"
      ],
      "metadata": {
        "colab": {
          "base_uri": "https://localhost:8080/"
        },
        "id": "7-4PC0RtDdUA",
        "outputId": "5107c4f7-5917-4e70-ed54-b84ef2db4660"
      },
      "execution_count": 12,
      "outputs": [
        {
          "output_type": "execute_result",
          "data": {
            "text/plain": [
              "pyspark.sql.dataframe.DataFrame"
            ]
          },
          "metadata": {},
          "execution_count": 12
        }
      ]
    },
    {
      "cell_type": "code",
      "source": [
        "df_pyspark.head(4) # Appears as a list"
      ],
      "metadata": {
        "colab": {
          "base_uri": "https://localhost:8080/"
        },
        "id": "HXoVX2mNDGZR",
        "outputId": "e8e049a4-5c92-4744-da74-3e8fec6edb94"
      },
      "execution_count": 13,
      "outputs": [
        {
          "output_type": "execute_result",
          "data": {
            "text/plain": [
              "[Row(Name='Riya', Age=23, Experience=3, Salary=30000),\n",
              " Row(Name='Sam', Age=29, Experience=5, Salary=50000),\n",
              " Row(Name='Joseph', Age=30, Experience=4, Salary=40000),\n",
              " Row(Name='Raj', Age=35, Experience=1, Salary=10000)]"
            ]
          },
          "metadata": {},
          "execution_count": 13
        }
      ]
    },
    {
      "cell_type": "code",
      "source": [
        "df_pyspark.printSchema()"
      ],
      "metadata": {
        "colab": {
          "base_uri": "https://localhost:8080/"
        },
        "id": "2Q0YXb7qDmp_",
        "outputId": "c3e3c436-2124-41f6-eb12-6591bd4963df"
      },
      "execution_count": 14,
      "outputs": [
        {
          "output_type": "stream",
          "name": "stdout",
          "text": [
            "root\n",
            " |-- Name: string (nullable = true)\n",
            " |-- Age: integer (nullable = true)\n",
            " |-- Experience: integer (nullable = true)\n",
            " |-- Salary: integer (nullable = true)\n",
            "\n"
          ]
        }
      ]
    },
    {
      "cell_type": "code",
      "source": [
        "df_pyspark = spark.read.csv('Test1_ds.csv', header = True, inferSchema= True)\n",
        "df_pyspark.show()"
      ],
      "metadata": {
        "colab": {
          "base_uri": "https://localhost:8080/"
        },
        "id": "WPSwFt0QDqDn",
        "outputId": "4ed95fd9-2a8a-49fc-d354-2e7e974a1b68"
      },
      "execution_count": 15,
      "outputs": [
        {
          "output_type": "stream",
          "name": "stdout",
          "text": [
            "+------+---+----------+------+\n",
            "|  Name|Age|Experience|Salary|\n",
            "+------+---+----------+------+\n",
            "|  Riya| 23|         3| 30000|\n",
            "|   Sam| 29|         5| 50000|\n",
            "|Joseph| 30|         4| 40000|\n",
            "|   Raj| 35|         1| 10000|\n",
            "|  NULL| 26|      NULL| 45000|\n",
            "|  NULL| 31|         6| 60000|\n",
            "|   Sia| 28|         8| 80000|\n",
            "+------+---+----------+------+\n",
            "\n"
          ]
        }
      ]
    },
    {
      "cell_type": "code",
      "source": [
        "type(df_pyspark)"
      ],
      "metadata": {
        "colab": {
          "base_uri": "https://localhost:8080/"
        },
        "id": "3HyD0KCPF7tc",
        "outputId": "f9f772b6-f6e5-4424-d906-62cbb796456e"
      },
      "execution_count": 16,
      "outputs": [
        {
          "output_type": "execute_result",
          "data": {
            "text/plain": [
              "pyspark.sql.dataframe.DataFrame"
            ]
          },
          "metadata": {},
          "execution_count": 16
        }
      ]
    },
    {
      "cell_type": "code",
      "source": [
        "df_pyspark.columns"
      ],
      "metadata": {
        "colab": {
          "base_uri": "https://localhost:8080/"
        },
        "id": "LAh0SSZkF-AS",
        "outputId": "6b9daec1-0382-4e22-c4ff-5f47c5662d3f"
      },
      "execution_count": 17,
      "outputs": [
        {
          "output_type": "execute_result",
          "data": {
            "text/plain": [
              "['Name', 'Age', 'Experience', 'Salary']"
            ]
          },
          "metadata": {},
          "execution_count": 17
        }
      ]
    },
    {
      "cell_type": "code",
      "source": [
        "df_pyspark.select('Age')"
      ],
      "metadata": {
        "colab": {
          "base_uri": "https://localhost:8080/"
        },
        "id": "725feQbkGHLn",
        "outputId": "d9551ad8-e428-4521-8647-c1298dd028c8"
      },
      "execution_count": 18,
      "outputs": [
        {
          "output_type": "execute_result",
          "data": {
            "text/plain": [
              "DataFrame[Age: int]"
            ]
          },
          "metadata": {},
          "execution_count": 18
        }
      ]
    },
    {
      "cell_type": "code",
      "source": [
        "df_pyspark.select('Age').show()"
      ],
      "metadata": {
        "colab": {
          "base_uri": "https://localhost:8080/"
        },
        "id": "MBNMcLDTGgIk",
        "outputId": "f6deea8d-7b8a-4d03-fd59-f49801caa52a"
      },
      "execution_count": 19,
      "outputs": [
        {
          "output_type": "stream",
          "name": "stdout",
          "text": [
            "+---+\n",
            "|Age|\n",
            "+---+\n",
            "| 23|\n",
            "| 29|\n",
            "| 30|\n",
            "| 35|\n",
            "| 26|\n",
            "| 31|\n",
            "| 28|\n",
            "+---+\n",
            "\n"
          ]
        }
      ]
    },
    {
      "cell_type": "code",
      "source": [
        "type(df_pyspark.select('Age'))"
      ],
      "metadata": {
        "colab": {
          "base_uri": "https://localhost:8080/"
        },
        "id": "kXscCQJYGaKy",
        "outputId": "2ee0e4f5-e564-4e18-c63b-775b4350ac71"
      },
      "execution_count": 20,
      "outputs": [
        {
          "output_type": "execute_result",
          "data": {
            "text/plain": [
              "pyspark.sql.dataframe.DataFrame"
            ]
          },
          "metadata": {},
          "execution_count": 20
        }
      ]
    },
    {
      "cell_type": "code",
      "source": [
        "df_pyspark.select(['Name', 'Age']).show()"
      ],
      "metadata": {
        "colab": {
          "base_uri": "https://localhost:8080/"
        },
        "id": "tWz4YUvtGkKc",
        "outputId": "75f45d1e-0859-490f-d59e-6869d0644d8c"
      },
      "execution_count": 21,
      "outputs": [
        {
          "output_type": "stream",
          "name": "stdout",
          "text": [
            "+------+---+\n",
            "|  Name|Age|\n",
            "+------+---+\n",
            "|  Riya| 23|\n",
            "|   Sam| 29|\n",
            "|Joseph| 30|\n",
            "|   Raj| 35|\n",
            "|  NULL| 26|\n",
            "|  NULL| 31|\n",
            "|   Sia| 28|\n",
            "+------+---+\n",
            "\n"
          ]
        }
      ]
    },
    {
      "cell_type": "code",
      "source": [
        "df_pyspark['Name']"
      ],
      "metadata": {
        "colab": {
          "base_uri": "https://localhost:8080/"
        },
        "id": "fGc2DT-RGq5_",
        "outputId": "79b443fc-c376-437a-882e-854efc580fdc"
      },
      "execution_count": 22,
      "outputs": [
        {
          "output_type": "execute_result",
          "data": {
            "text/plain": [
              "Column<'Name'>"
            ]
          },
          "metadata": {},
          "execution_count": 22
        }
      ]
    },
    {
      "cell_type": "code",
      "source": [
        "df_pyspark.dtypes"
      ],
      "metadata": {
        "colab": {
          "base_uri": "https://localhost:8080/"
        },
        "id": "zc_-GMseG60t",
        "outputId": "feaf51fb-f5dc-48ed-ea2b-253d82f0454d"
      },
      "execution_count": 23,
      "outputs": [
        {
          "output_type": "execute_result",
          "data": {
            "text/plain": [
              "[('Name', 'string'), ('Age', 'int'), ('Experience', 'int'), ('Salary', 'int')]"
            ]
          },
          "metadata": {},
          "execution_count": 23
        }
      ]
    },
    {
      "cell_type": "code",
      "source": [
        "df_pyspark.describe()"
      ],
      "metadata": {
        "colab": {
          "base_uri": "https://localhost:8080/"
        },
        "id": "7QsT1-dEG9GT",
        "outputId": "53386dec-5f62-41d1-c1bf-b5298290192c"
      },
      "execution_count": 24,
      "outputs": [
        {
          "output_type": "execute_result",
          "data": {
            "text/plain": [
              "DataFrame[summary: string, Name: string, Age: string, Experience: string, Salary: string]"
            ]
          },
          "metadata": {},
          "execution_count": 24
        }
      ]
    },
    {
      "cell_type": "code",
      "source": [
        "df_pyspark.describe().show()"
      ],
      "metadata": {
        "colab": {
          "base_uri": "https://localhost:8080/"
        },
        "id": "0TNXpJSnHD8U",
        "outputId": "9637de2b-3c79-40bd-ca46-bd6a91e1a4a4"
      },
      "execution_count": 25,
      "outputs": [
        {
          "output_type": "stream",
          "name": "stdout",
          "text": [
            "+-------+------+------------------+------------------+-----------------+\n",
            "|summary|  Name|               Age|        Experience|           Salary|\n",
            "+-------+------+------------------+------------------+-----------------+\n",
            "|  count|     5|                 7|                 6|                7|\n",
            "|   mean|  NULL|28.857142857142858|               4.5|          45000.0|\n",
            "| stddev|  NULL| 3.804758924845368|2.4289915602982237|22173.55782608345|\n",
            "|    min|Joseph|                23|                 1|            10000|\n",
            "|    max|   Sia|                35|                 8|            80000|\n",
            "+-------+------+------------------+------------------+-----------------+\n",
            "\n"
          ]
        }
      ]
    },
    {
      "cell_type": "code",
      "source": [
        "df_pyspark = df_pyspark.withColumn('Experience After 2 years', df_pyspark['Experience']+2)"
      ],
      "metadata": {
        "id": "rSlfQCX9HHT8"
      },
      "execution_count": 26,
      "outputs": []
    },
    {
      "cell_type": "code",
      "source": [
        "df_pyspark.show()"
      ],
      "metadata": {
        "colab": {
          "base_uri": "https://localhost:8080/"
        },
        "id": "mdVeIsCkHldx",
        "outputId": "8c7c328c-167a-4ecb-ade4-e9652e0a8eb3"
      },
      "execution_count": 27,
      "outputs": [
        {
          "output_type": "stream",
          "name": "stdout",
          "text": [
            "+------+---+----------+------+------------------------+\n",
            "|  Name|Age|Experience|Salary|Experience After 2 years|\n",
            "+------+---+----------+------+------------------------+\n",
            "|  Riya| 23|         3| 30000|                       5|\n",
            "|   Sam| 29|         5| 50000|                       7|\n",
            "|Joseph| 30|         4| 40000|                       6|\n",
            "|   Raj| 35|         1| 10000|                       3|\n",
            "|  NULL| 26|      NULL| 45000|                    NULL|\n",
            "|  NULL| 31|         6| 60000|                       8|\n",
            "|   Sia| 28|         8| 80000|                      10|\n",
            "+------+---+----------+------+------------------------+\n",
            "\n"
          ]
        }
      ]
    },
    {
      "cell_type": "code",
      "source": [
        "df_pyspark = df_pyspark.drop('Experience After 2 years')"
      ],
      "metadata": {
        "id": "i0yjOFgCHoT-"
      },
      "execution_count": 28,
      "outputs": []
    },
    {
      "cell_type": "code",
      "source": [
        "df_pyspark.show()"
      ],
      "metadata": {
        "colab": {
          "base_uri": "https://localhost:8080/"
        },
        "id": "ANq5TOHhH9nl",
        "outputId": "22bb7554-53b4-4e27-db21-301015b35446"
      },
      "execution_count": 29,
      "outputs": [
        {
          "output_type": "stream",
          "name": "stdout",
          "text": [
            "+------+---+----------+------+\n",
            "|  Name|Age|Experience|Salary|\n",
            "+------+---+----------+------+\n",
            "|  Riya| 23|         3| 30000|\n",
            "|   Sam| 29|         5| 50000|\n",
            "|Joseph| 30|         4| 40000|\n",
            "|   Raj| 35|         1| 10000|\n",
            "|  NULL| 26|      NULL| 45000|\n",
            "|  NULL| 31|         6| 60000|\n",
            "|   Sia| 28|         8| 80000|\n",
            "+------+---+----------+------+\n",
            "\n"
          ]
        }
      ]
    },
    {
      "cell_type": "code",
      "source": [
        "df_pyspark.withColumnRenamed('Name', 'New Name').show()"
      ],
      "metadata": {
        "colab": {
          "base_uri": "https://localhost:8080/"
        },
        "id": "dnb07qoQID6T",
        "outputId": "75893bc4-3ec5-41f6-cf6e-c8ac14fecc28"
      },
      "execution_count": 30,
      "outputs": [
        {
          "output_type": "stream",
          "name": "stdout",
          "text": [
            "+--------+---+----------+------+\n",
            "|New Name|Age|Experience|Salary|\n",
            "+--------+---+----------+------+\n",
            "|    Riya| 23|         3| 30000|\n",
            "|     Sam| 29|         5| 50000|\n",
            "|  Joseph| 30|         4| 40000|\n",
            "|     Raj| 35|         1| 10000|\n",
            "|    NULL| 26|      NULL| 45000|\n",
            "|    NULL| 31|         6| 60000|\n",
            "|     Sia| 28|         8| 80000|\n",
            "+--------+---+----------+------+\n",
            "\n"
          ]
        }
      ]
    },
    {
      "cell_type": "code",
      "source": [
        "df_pyspark = df_pyspark.withColumn('Salary', df_pyspark['Experience']*10000)"
      ],
      "metadata": {
        "id": "aBvTK4-uIQJo"
      },
      "execution_count": 31,
      "outputs": []
    },
    {
      "cell_type": "code",
      "source": [
        "df_pyspark.show()"
      ],
      "metadata": {
        "colab": {
          "base_uri": "https://localhost:8080/"
        },
        "id": "3y0TTwCMKXRp",
        "outputId": "0a26c10e-fc86-4f0e-866e-9ce3a92bd40c"
      },
      "execution_count": 32,
      "outputs": [
        {
          "output_type": "stream",
          "name": "stdout",
          "text": [
            "+------+---+----------+------+\n",
            "|  Name|Age|Experience|Salary|\n",
            "+------+---+----------+------+\n",
            "|  Riya| 23|         3| 30000|\n",
            "|   Sam| 29|         5| 50000|\n",
            "|Joseph| 30|         4| 40000|\n",
            "|   Raj| 35|         1| 10000|\n",
            "|  NULL| 26|      NULL|  NULL|\n",
            "|  NULL| 31|         6| 60000|\n",
            "|   Sia| 28|         8| 80000|\n",
            "+------+---+----------+------+\n",
            "\n"
          ]
        }
      ]
    },
    {
      "cell_type": "code",
      "source": [
        "df_pyspark.na.drop().show() ## drops al rows where null values are present"
      ],
      "metadata": {
        "colab": {
          "base_uri": "https://localhost:8080/"
        },
        "id": "cQfvHg5VKdPW",
        "outputId": "bf29cfb8-ac40-41d3-ca07-f6154a0e2303"
      },
      "execution_count": 33,
      "outputs": [
        {
          "output_type": "stream",
          "name": "stdout",
          "text": [
            "+------+---+----------+------+\n",
            "|  Name|Age|Experience|Salary|\n",
            "+------+---+----------+------+\n",
            "|  Riya| 23|         3| 30000|\n",
            "|   Sam| 29|         5| 50000|\n",
            "|Joseph| 30|         4| 40000|\n",
            "|   Raj| 35|         1| 10000|\n",
            "|   Sia| 28|         8| 80000|\n",
            "+------+---+----------+------+\n",
            "\n"
          ]
        }
      ]
    },
    {
      "cell_type": "code",
      "source": [
        "df_pyspark.na.drop(how=\"all\").show() ## drops records when all values in a row are Null"
      ],
      "metadata": {
        "colab": {
          "base_uri": "https://localhost:8080/"
        },
        "id": "yRa6VQH7L6-Z",
        "outputId": "ce6c18b1-2ee1-40ae-ac5e-214d389a1bd5"
      },
      "execution_count": 34,
      "outputs": [
        {
          "output_type": "stream",
          "name": "stdout",
          "text": [
            "+------+---+----------+------+\n",
            "|  Name|Age|Experience|Salary|\n",
            "+------+---+----------+------+\n",
            "|  Riya| 23|         3| 30000|\n",
            "|   Sam| 29|         5| 50000|\n",
            "|Joseph| 30|         4| 40000|\n",
            "|   Raj| 35|         1| 10000|\n",
            "|  NULL| 26|      NULL|  NULL|\n",
            "|  NULL| 31|         6| 60000|\n",
            "|   Sia| 28|         8| 80000|\n",
            "+------+---+----------+------+\n",
            "\n"
          ]
        }
      ]
    },
    {
      "cell_type": "code",
      "source": [
        "df_pyspark.na.drop(how=\"any\", thresh=2).show() ## drops rows where we do not have atleast 2 not null values"
      ],
      "metadata": {
        "colab": {
          "base_uri": "https://localhost:8080/"
        },
        "id": "XXnLkaGtMUXW",
        "outputId": "0e61e89d-8854-4b6e-847a-c7caff966ac5"
      },
      "execution_count": 35,
      "outputs": [
        {
          "output_type": "stream",
          "name": "stdout",
          "text": [
            "+------+---+----------+------+\n",
            "|  Name|Age|Experience|Salary|\n",
            "+------+---+----------+------+\n",
            "|  Riya| 23|         3| 30000|\n",
            "|   Sam| 29|         5| 50000|\n",
            "|Joseph| 30|         4| 40000|\n",
            "|   Raj| 35|         1| 10000|\n",
            "|  NULL| 31|         6| 60000|\n",
            "|   Sia| 28|         8| 80000|\n",
            "+------+---+----------+------+\n",
            "\n"
          ]
        }
      ]
    },
    {
      "cell_type": "code",
      "source": [
        "df_pyspark.na.drop(how=\"any\", subset=['Name']).show()\n",
        "# deletes all records where null values present for the specified column"
      ],
      "metadata": {
        "colab": {
          "base_uri": "https://localhost:8080/"
        },
        "id": "gIEfwekcMljI",
        "outputId": "8fe07af4-f672-4526-9cd4-aee45048ef5d"
      },
      "execution_count": 36,
      "outputs": [
        {
          "output_type": "stream",
          "name": "stdout",
          "text": [
            "+------+---+----------+------+\n",
            "|  Name|Age|Experience|Salary|\n",
            "+------+---+----------+------+\n",
            "|  Riya| 23|         3| 30000|\n",
            "|   Sam| 29|         5| 50000|\n",
            "|Joseph| 30|         4| 40000|\n",
            "|   Raj| 35|         1| 10000|\n",
            "|   Sia| 28|         8| 80000|\n",
            "+------+---+----------+------+\n",
            "\n"
          ]
        }
      ]
    },
    {
      "cell_type": "code",
      "source": [
        "df_pyspark.na.fill('Missing').show()"
      ],
      "metadata": {
        "colab": {
          "base_uri": "https://localhost:8080/"
        },
        "id": "J_1DQdJEN9X1",
        "outputId": "f3c863cf-613f-4d60-839f-e225222f98b7"
      },
      "execution_count": 37,
      "outputs": [
        {
          "output_type": "stream",
          "name": "stdout",
          "text": [
            "+-------+---+----------+------+\n",
            "|   Name|Age|Experience|Salary|\n",
            "+-------+---+----------+------+\n",
            "|   Riya| 23|         3| 30000|\n",
            "|    Sam| 29|         5| 50000|\n",
            "| Joseph| 30|         4| 40000|\n",
            "|    Raj| 35|         1| 10000|\n",
            "|Missing| 26|      NULL|  NULL|\n",
            "|Missing| 31|         6| 60000|\n",
            "|    Sia| 28|         8| 80000|\n",
            "+-------+---+----------+------+\n",
            "\n"
          ]
        }
      ]
    },
    {
      "cell_type": "code",
      "source": [
        "#Filling for missing values with Text\n",
        "df_pyspark.na.fill('Missing Value').show()"
      ],
      "metadata": {
        "colab": {
          "base_uri": "https://localhost:8080/"
        },
        "id": "pHGUxToBNv4p",
        "outputId": "abb81471-c9f7-4f5b-ab0d-c88a2634eeba"
      },
      "execution_count": 38,
      "outputs": [
        {
          "output_type": "stream",
          "name": "stdout",
          "text": [
            "+-------------+---+----------+------+\n",
            "|         Name|Age|Experience|Salary|\n",
            "+-------------+---+----------+------+\n",
            "|         Riya| 23|         3| 30000|\n",
            "|          Sam| 29|         5| 50000|\n",
            "|       Joseph| 30|         4| 40000|\n",
            "|          Raj| 35|         1| 10000|\n",
            "|Missing Value| 26|      NULL|  NULL|\n",
            "|Missing Value| 31|         6| 60000|\n",
            "|          Sia| 28|         8| 80000|\n",
            "+-------------+---+----------+------+\n",
            "\n"
          ]
        }
      ]
    },
    {
      "cell_type": "code",
      "source": [
        "df_pyspark.na.fill('Missing Values','Experience').show()"
      ],
      "metadata": {
        "colab": {
          "base_uri": "https://localhost:8080/"
        },
        "id": "VfdoXIRDNCRW",
        "outputId": "15ce4c74-e5ac-4ce4-f3dd-ddae6b4e94d2"
      },
      "execution_count": 39,
      "outputs": [
        {
          "output_type": "stream",
          "name": "stdout",
          "text": [
            "+------+---+----------+------+\n",
            "|  Name|Age|Experience|Salary|\n",
            "+------+---+----------+------+\n",
            "|  Riya| 23|         3| 30000|\n",
            "|   Sam| 29|         5| 50000|\n",
            "|Joseph| 30|         4| 40000|\n",
            "|   Raj| 35|         1| 10000|\n",
            "|  NULL| 26|      NULL|  NULL|\n",
            "|  NULL| 31|         6| 60000|\n",
            "|   Sia| 28|         8| 80000|\n",
            "+------+---+----------+------+\n",
            "\n"
          ]
        }
      ]
    },
    {
      "cell_type": "code",
      "source": [
        "df_pyspark.show()"
      ],
      "metadata": {
        "colab": {
          "base_uri": "https://localhost:8080/"
        },
        "id": "9jBTmnR3OQrg",
        "outputId": "3e93cf9f-0d78-4768-d37c-1f16030f4c97"
      },
      "execution_count": 40,
      "outputs": [
        {
          "output_type": "stream",
          "name": "stdout",
          "text": [
            "+------+---+----------+------+\n",
            "|  Name|Age|Experience|Salary|\n",
            "+------+---+----------+------+\n",
            "|  Riya| 23|         3| 30000|\n",
            "|   Sam| 29|         5| 50000|\n",
            "|Joseph| 30|         4| 40000|\n",
            "|   Raj| 35|         1| 10000|\n",
            "|  NULL| 26|      NULL|  NULL|\n",
            "|  NULL| 31|         6| 60000|\n",
            "|   Sia| 28|         8| 80000|\n",
            "+------+---+----------+------+\n",
            "\n"
          ]
        }
      ]
    },
    {
      "cell_type": "code",
      "source": [
        "from pyspark.ml.feature import Imputer"
      ],
      "metadata": {
        "id": "x38LBM81OXdv"
      },
      "execution_count": 41,
      "outputs": []
    },
    {
      "cell_type": "code",
      "source": [
        "# Filling Values through imputation\n",
        "imputer = Imputer(inputCols=['Experience', 'Salary'],\n",
        "                  outputCols= [\"{}_imputed\".format(c) for c in ['Experience', 'Salary']]\n",
        "                  ).setStrategy(\"mean\")"
      ],
      "metadata": {
        "id": "avn9xxowOf1X"
      },
      "execution_count": 42,
      "outputs": []
    },
    {
      "cell_type": "code",
      "source": [
        "imputer.fit(df_pyspark).transform(df_pyspark).show()"
      ],
      "metadata": {
        "colab": {
          "base_uri": "https://localhost:8080/"
        },
        "id": "nBmoOllrPAfq",
        "outputId": "122ad467-4c8c-4914-ca35-785d3afe23ff"
      },
      "execution_count": 43,
      "outputs": [
        {
          "output_type": "stream",
          "name": "stdout",
          "text": [
            "+------+---+----------+------+------------------+--------------+\n",
            "|  Name|Age|Experience|Salary|Experience_imputed|Salary_imputed|\n",
            "+------+---+----------+------+------------------+--------------+\n",
            "|  Riya| 23|         3| 30000|                 3|         30000|\n",
            "|   Sam| 29|         5| 50000|                 5|         50000|\n",
            "|Joseph| 30|         4| 40000|                 4|         40000|\n",
            "|   Raj| 35|         1| 10000|                 1|         10000|\n",
            "|  NULL| 26|      NULL|  NULL|                 4|         45000|\n",
            "|  NULL| 31|         6| 60000|                 6|         60000|\n",
            "|   Sia| 28|         8| 80000|                 8|         80000|\n",
            "+------+---+----------+------+------------------+--------------+\n",
            "\n"
          ]
        }
      ]
    }
  ]
}